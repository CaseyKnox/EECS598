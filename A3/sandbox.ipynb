{
 "cells": [
  {
   "cell_type": "code",
   "execution_count": 1,
   "id": "f04fce5e",
   "metadata": {},
   "outputs": [],
   "source": [
    "import torch"
   ]
  },
  {
   "cell_type": "code",
   "execution_count": 2,
   "id": "aa2f3bba",
   "metadata": {},
   "outputs": [
    {
     "data": {
      "text/plain": [
       "tensor([135, 145, 155])"
      ]
     },
     "execution_count": 2,
     "metadata": {},
     "output_type": "execute_result"
    }
   ],
   "source": [
    "a = torch.arange(30).reshape((10,3))\n",
    "a.sum(axis=0)"
   ]
  },
  {
   "cell_type": "code",
   "execution_count": 8,
   "id": "eb706a61",
   "metadata": {},
   "outputs": [
    {
     "name": "stdout",
     "output_type": "stream",
     "text": [
      "tensor([[ 0,  1,  2,  3],\n",
      "        [ 4,  5,  6,  7],\n",
      "        [ 8,  9, 10, 11]])\n",
      "tensor([[10., 10., 10., 10.],\n",
      "        [10., 10., 10., 10.],\n",
      "        [10.,  0., 10., 10.]])\n",
      "tensor([[  0.,  10.,  20.,  30.],\n",
      "        [ 40.,  50.,  60.,  70.],\n",
      "        [ 80.,   0., 100., 110.]])\n"
     ]
    }
   ],
   "source": [
    "x = torch.arange(3*4).reshape(3,4)\n",
    "p = 0.1\n",
    "mask = (torch.rand(*x.shape, device=x.device) > p) / p # scaling\n",
    "print(x)\n",
    "print(mask)\n",
    "print(x * mask)"
   ]
  },
  {
   "cell_type": "code",
   "execution_count": 13,
   "id": "a0b64d7d",
   "metadata": {},
   "outputs": [],
   "source": [
    "from fully_connected_networks import Dropout, Linear_ReLU"
   ]
  },
  {
   "cell_type": "code",
   "execution_count": 16,
   "id": "aadf3bce",
   "metadata": {},
   "outputs": [
    {
     "data": {
      "text/plain": [
       "('Dropout', 'Linear_ReLU')"
      ]
     },
     "execution_count": 16,
     "metadata": {},
     "output_type": "execute_result"
    }
   ],
   "source": [
    "Dropout.__name__, Linear_ReLU.__name__"
   ]
  },
  {
   "cell_type": "code",
   "execution_count": 17,
   "id": "35b5ef5d",
   "metadata": {},
   "outputs": [
    {
     "data": {
      "text/plain": [
       "True"
      ]
     },
     "execution_count": 17,
     "metadata": {},
     "output_type": "execute_result"
    }
   ],
   "source": [
    "Dropout.__name__ == \"Dropout\""
   ]
  },
  {
   "cell_type": "code",
   "execution_count": 3,
   "id": "1265ee5b",
   "metadata": {},
   "outputs": [
    {
     "data": {
      "text/plain": [
       "tensor(8555)"
      ]
     },
     "execution_count": 3,
     "metadata": {},
     "output_type": "execute_result"
    }
   ],
   "source": [
    "torch.sum(a * a)"
   ]
  },
  {
   "cell_type": "code",
   "execution_count": null,
   "id": "e861f195",
   "metadata": {},
   "outputs": [],
   "source": []
  }
 ],
 "metadata": {
  "kernelspec": {
   "display_name": "env (3.13.2)",
   "language": "python",
   "name": "python3"
  },
  "language_info": {
   "codemirror_mode": {
    "name": "ipython",
    "version": 3
   },
   "file_extension": ".py",
   "mimetype": "text/x-python",
   "name": "python",
   "nbconvert_exporter": "python",
   "pygments_lexer": "ipython3",
   "version": "3.13.2"
  }
 },
 "nbformat": 4,
 "nbformat_minor": 5
}
