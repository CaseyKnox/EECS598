{
 "cells": [
  {
   "cell_type": "code",
   "execution_count": 1,
   "id": "23c5ed4e",
   "metadata": {},
   "outputs": [],
   "source": [
    "import torch"
   ]
  },
  {
   "cell_type": "code",
   "execution_count": 3,
   "id": "c84d6647",
   "metadata": {},
   "outputs": [
    {
     "name": "stdout",
     "output_type": "stream",
     "text": [
      "torch.Size([5, 4, 3, 2])\n"
     ]
    }
   ],
   "source": [
    "a = torch.arange(5*4*3*2).reshape(5,4,3,2)\n",
    "\n",
    "mask = a < 100\n",
    "print(mask.shape)"
   ]
  },
  {
   "cell_type": "code",
   "execution_count": 5,
   "id": "ca4c42fc",
   "metadata": {},
   "outputs": [
    {
     "data": {
      "text/plain": [
       "tensor([[ 0.0000e+00,  1.0761e+00, -6.6545e-01,  2.4892e-01, -6.2923e-01],\n",
       "        [ 1.0000e+00,  1.4061e+00, -6.1178e-02, -6.1086e-01,  8.5270e-01],\n",
       "        [ 2.0000e+00,  1.7320e+00,  1.6907e+00, -9.0451e-01,  6.9401e-01],\n",
       "        [ 3.0000e+00,  2.7851e-01, -3.9173e-03, -1.3239e+00,  9.4229e-01],\n",
       "        [ 4.0000e+00, -1.8691e-01,  6.1747e-01,  5.8615e-01, -7.1771e-01],\n",
       "        [ 5.0000e+00,  3.8176e-01, -1.0812e+00,  1.6569e+00,  1.5891e+00],\n",
       "        [ 6.0000e+00, -7.7048e-01, -2.0595e+00,  6.8154e-01, -2.6540e-01],\n",
       "        [ 7.0000e+00,  1.1549e+00,  6.3609e-01,  2.8401e-01, -2.9684e-01],\n",
       "        [ 8.0000e+00,  2.9136e-01,  1.5583e+00,  1.7302e+00, -5.1524e-03],\n",
       "        [ 9.0000e+00,  1.0295e+00, -1.3475e+00,  5.3053e-01,  7.4452e-01]])"
      ]
     },
     "execution_count": 5,
     "metadata": {},
     "output_type": "execute_result"
    }
   ],
   "source": [
    "a = torch.arange(10) \n",
    "p = torch.randn((10,4)) # K,4\n",
    "torch.column_stack((a,p)) # K,5"
   ]
  },
  {
   "cell_type": "code",
   "execution_count": null,
   "id": "9337bbc4",
   "metadata": {},
   "outputs": [],
   "source": []
  }
 ],
 "metadata": {
  "kernelspec": {
   "display_name": "env (3.13.2)",
   "language": "python",
   "name": "python3"
  },
  "language_info": {
   "codemirror_mode": {
    "name": "ipython",
    "version": 3
   },
   "file_extension": ".py",
   "mimetype": "text/x-python",
   "name": "python",
   "nbconvert_exporter": "python",
   "pygments_lexer": "ipython3",
   "version": "3.13.2"
  }
 },
 "nbformat": 4,
 "nbformat_minor": 5
}
